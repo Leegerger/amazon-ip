{
 "cells": [
  {
   "cell_type": "code",
   "execution_count": 33,
   "metadata": {},
   "outputs": [],
   "source": [
    "import requests"
   ]
  },
  {
   "cell_type": "code",
   "execution_count": 35,
   "metadata": {},
   "outputs": [],
   "source": [
    "js = requests.get(\"https://ip-ranges.amazonaws.com/ip-ranges.json\").json()"
   ]
  },
  {
   "cell_type": "code",
   "execution_count": 36,
   "metadata": {},
   "outputs": [],
   "source": [
    "rules =[\n",
    "            \"/ip firewall address-list remove [/ip firewall address-list find list=amazon]\",\n",
    "            \"/ip firewall address-list\"\n",
    "        ] + \\\n",
    "        [f\"add address={j['ip_prefix']} disabled=no list=amazon\" for j in js['prefixes']]"
   ]
  },
  {
   "cell_type": "code",
   "execution_count": 37,
   "metadata": {},
   "outputs": [],
   "source": [
    "with open(\"amazon.rsc\",'w') as f:\n",
    "    f.write(\"\\n\".join(rules))"
   ]
  }
 ],
 "metadata": {
  "kernelspec": {
   "display_name": "Python 3",
   "language": "python",
   "name": "python3"
  },
  "language_info": {
   "codemirror_mode": {
    "name": "ipython",
    "version": 3
   },
   "file_extension": ".py",
   "mimetype": "text/x-python",
   "name": "python",
   "nbconvert_exporter": "python",
   "pygments_lexer": "ipython3",
   "version": "3.12.4"
  }
 },
 "nbformat": 4,
 "nbformat_minor": 2
}
